{
 "cells": [
  {
   "cell_type": "code",
   "execution_count": 3,
   "metadata": {
    "collapsed": true
   },
   "outputs": [],
   "source": [
    "import pandas as pd\n",
    "import os\n"
   ]
  },
  {
   "cell_type": "code",
   "execution_count": 4,
   "metadata": {
    "collapsed": false
   },
   "outputs": [],
   "source": [
    "files = os.listdir('../raw_data')"
   ]
  },
  {
   "cell_type": "code",
   "execution_count": 5,
   "metadata": {
    "collapsed": false
   },
   "outputs": [],
   "source": [
    "data = {f: pd.read_excel('../raw_data/'+f) for f in files }\n"
   ]
  },
  {
   "cell_type": "code",
   "execution_count": 7,
   "metadata": {
    "collapsed": false
   },
   "outputs": [
    {
     "data": {
      "text/plain": [
       "['Hack4Cause_PopulationForecastToActualOvertime.xlsx',\n",
       " 'Hack4Cause_UnempRate_2017.xlsx',\n",
       " 'Hack4Cause_Employment_BPs_NonPhasedbyIssueDate_1.1.01_12.31.16.xls',\n",
       " 'Hack4Cause_Housing_PermitSummaryTrendInfo_2001_2014_editv6 (final).xlsx',\n",
       " 'Hack4Cause_Housing_IssuedBPs_NonPhasedandPhased_1.1.01_12.31.14_(1.27.15)_forDTmap.xlsx',\n",
       " 'Hack4Cause_Employment_Wages_2017.xlsx',\n",
       " 'Hack4Cause_HousingPrices.xlsx',\n",
       " 'Hack4Cause_Housing_BP_Issued_Phased_and_NonPhased_1.1.015_12.31.15(FINAL).xlsx',\n",
       " 'Hack4Cause_Parking Citations FY 2008.xls']"
      ]
     },
     "execution_count": 7,
     "metadata": {},
     "output_type": "execute_result"
    }
   ],
   "source": [
    "files"
   ]
  }
 ],
 "metadata": {
  "kernelspec": {
   "display_name": "Python 3",
   "language": "python",
   "name": "python3"
  },
  "language_info": {
   "codemirror_mode": {
    "name": "ipython",
    "version": 3
   },
   "file_extension": ".py",
   "mimetype": "text/x-python",
   "name": "python",
   "nbconvert_exporter": "python",
   "pygments_lexer": "ipython3",
   "version": "3.5.2"
  }
 },
 "nbformat": 4,
 "nbformat_minor": 2
}
