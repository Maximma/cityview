{
 "cells": [
  {
   "cell_type": "code",
   "execution_count": 8,
   "metadata": {
    "collapsed": true
   },
   "outputs": [],
   "source": [
    "import pandas as pd\n",
    "import os"
   ]
  },
  {
   "cell_type": "code",
   "execution_count": 9,
   "metadata": {
    "collapsed": true
   },
   "outputs": [],
   "source": [
    "permitFile = '../raw_data/Hack4Cause_Housing_BP_Issued_Phased_and_NonPhased_1.1.015_12.31.15(FINAL).xlsx'"
   ]
  },
  {
   "cell_type": "raw",
   "metadata": {},
   "source": [
    "data = pd.read_excel(permitFile, 'BP_Issued_NonPh_clean')\n",
    "data.set_index('issued_date')\n",
    "data[['neighborhood','issued_date']].set_index('issued_date').groupby(by='neighborhood').resample(\"Q\").count()\n",
    "fh = open('C:/Users/Heron/Documents/python/c-dash/cityview/web/html/data/permits.json', 'w')\n",
    "fh.write(data.to_json())\n",
    "fh.close()"
   ]
  }
 ],
 "metadata": {
  "kernelspec": {
   "display_name": "Python 3",
   "language": "python",
   "name": "python3"
  },
  "language_info": {
   "codemirror_mode": {
    "name": "ipython",
    "version": 3
   },
   "file_extension": ".py",
   "mimetype": "text/x-python",
   "name": "python",
   "nbconvert_exporter": "python",
   "pygments_lexer": "ipython3",
   "version": "3.5.3"
  }
 },
 "nbformat": 4,
 "nbformat_minor": 2
}
